{
 "cells": [
  {
   "cell_type": "markdown",
   "metadata": {
    "slideshow": {
     "slide_type": "slide"
    }
   },
   "source": [
    "# Basic statistical concepts\n",
    "\n",
    "\n",
    "**Course: \"Introduction to data analysis methods for HEP\"**\n",
    "\n",
    "*Author: Jose A. Hernando*, January 2017\n",
    "\n",
    "*Particle Physics Deparment. Universidade de Santiago de Compostela, Spain.*"
   ]
  },
  {
   "cell_type": "markdown",
   "metadata": {
    "slideshow": {
     "slide_type": "subslide"
    }
   },
   "source": [
    "## General information about the course\n",
    "\n",
    "These is a series of lectures on Data Analysis for High Energy Physics. Emphasis is put on Hypothesis testing and Confidence Intervals. They are based on the excellent lectures on statistics by Prosper [1], Cowan [2] and Cranmer [3] given at CERN Academic Training.\n",
    "\n",
    "The most common data analysis packages in HEP are ROOT, RooFit and TMVA [9]. But we will use the Python scientific toolkits, Matplotlib, Numpy, Scipy, Scikit-learn [10] that are distributed with Anaconda Python [10]. \n",
    "\n",
    "Structure of the course:\n",
    "* General Concepts: probability density functions and likelihoods. Frequentist and bayesian statistics\n",
    "* Hypothesis testings: test statistic. Continuous hypothesis. CLs method.\n",
    "* Confidence Interval: Classical and F.C. intervals.\n",
    "* MVA: Classification.\n",
    "* Regression: Likelihood estimation.\n"
   ]
  },
  {
   "cell_type": "markdown",
   "metadata": {
    "slideshow": {
     "slide_type": "slide"
    }
   },
   "source": [
    "# Chapter : Probability, Bayes, probability density funcions and likelihoods.\n",
    "\n",
    "Structure of the chapter:\n",
    "1. Introduction\n",
    "2. Probability and Bayes' theorem\n",
    "3. Frequentist and Bayes: the great divide\n",
    "4. probability density functions: moments, likelihood and posterior probabity\n",
    "5. common pdfs\n",
    "6. non-parametric pdfs\n",
    "7. Bibliography"
   ]
  },
  {
   "cell_type": "code",
   "execution_count": 1,
   "metadata": {
    "slideshow": {
     "slide_type": "skip"
    }
   },
   "outputs": [],
   "source": [
    "# general imports\n",
    "%matplotlib inline\n",
    "\n",
    "# numpy and matplotlib\n",
    "import numpy as np\n",
    "import pandas as pd\n",
    "import matplotlib\n",
    "import matplotlib.pyplot as plt\n",
    "import scipy.stats as stats\n",
    "\n",
    "# possible styles: ggplot (simplicity), bmh (scientify data), \n",
    "matplotlib.style.use('ggplot')\n",
    "\n",
    "# ploting images\n",
    "from IPython.display import display, Image"
   ]
  },
  {
   "cell_type": "code",
   "execution_count": 2,
   "metadata": {
    "slideshow": {
     "slide_type": "skip"
    }
   },
   "outputs": [
    {
     "name": "stdout",
     "output_type": "stream",
     "text": [
      " Last Execution  Wed Jan 30 17:11:29 2019\n"
     ]
    }
   ],
   "source": [
    "import time\n",
    "\n",
    "print(' Last Execution ', time.asctime() )"
   ]
  },
  {
   "cell_type": "markdown",
   "metadata": {
    "slideshow": {
     "slide_type": "slide"
    }
   },
   "source": [
    "## 1. Introduction\n",
    "\n",
    "This notes present some **statististical data analysis methods** common to High Energy Physics (HEP). \n",
    "\n",
    "These methods help us to **extract information from complex data**. \n",
    "\n",
    "In addition, Monte Carlo (MC) techniques allow us to **simulate experiments**.\n",
    "\n",
    "But we must understand **how and when to use a method, and what its result means**.\n",
    "\n",
    "In HEP we collect a **dataset** of events (**samples**), each one has a list of variables (**features**). \n",
    "\n",
    "\n",
    "\n",
    "For example a *dataset* is a collection of interactions of the same time and under the same conditions in our detector, and the variables that summarize each interaction, (i.e number of particles, total energy ,etc) are the *features*"
   ]
  },
  {
   "cell_type": "markdown",
   "metadata": {
    "slideshow": {
     "slide_type": "slide"
    }
   },
   "source": [
    "Different tasks of data analysis:\n",
    "\n",
    "* **Classification** of the data. Data belongs to different categories (**classes**). For example a particle can be identified as a pion or a kaon. What is the most likely class for a given sample?\n",
    "* **Hypothesis testing**. In some cases we have competing hypothesis. Usually we have a default (or null) hypothesis and the alternative one. When do we reject the null hypothesis and accept the alternative one? When to discard the alternative hypothesis at a given confidence level? For example: is there a new particle, is the Higgs?\n",
    "* Setting **limits or confidence intervals** for a relevant parameter at a given **confidence level**. If a certain particle has not been found we set a upper limit on a cross-section, otherwise we provide a confidence interval that covers with a certain confidence level the range of the cross-section. \n",
    "* **Regression** (fits): estimate the value of a parameter (or parameters) and their uncertainties, i.e, to estimate the Higgs mass.\n",
    "\n",
    "We will briefly review some of the methods used in each of the tasks. But before, we should revisit basic concepts from probability and statistics."
   ]
  },
  {
   "cell_type": "markdown",
   "metadata": {
    "slideshow": {
     "slide_type": "slide"
    }
   },
   "source": [
    "## 2. Probability and Bayes' theorem\n",
    "\n",
    "Nature is probabilistic and our measurements are too. \n",
    "\n",
    "The starting point of probability are the **Kolmogorov axioms**:\n",
    "\n",
    "* the probability for an event, $E$, is non negative $P(E)\\ge 0$,\n",
    "* the probability for the entire space of possibilities,$\\Omega$, is one, $P(\\Omega) = 1$,\n",
    "* the probability for disjoint events, $E_1,\\dots,E_n$, is additive, $P(E_1 \\cup \\dots \\cup E_n) = \\sum_{i=1,n} P(E_i)$.\n",
    "\n",
    "From there we obtain the following corollaries:\n",
    "* $P(A \\cup B) = P(A) + P(B) - P(A \\cap B) $\n",
    "* $P(!E) = 1- P(E)$ \n",
    "where $!E$ is probability that $E$ does not happen.\n",
    "\n"
   ]
  },
  {
   "cell_type": "markdown",
   "metadata": {
    "slideshow": {
     "slide_type": "subslide"
    }
   },
   "source": [
    "\n",
    "**Example:**\n",
    "\n",
    "Consider the case of a dice. There are six possible events $\\Omega = \\{1,2,3,4,5,6\\}$, each one has a probability $P(E)=1/6 \\; E=\\{1,2,3,4,5,6\\}$. \n",
    "\n",
    "If you are a frequentist you could compute the probability for each event just rolling the dice $n$, large, number of times, and computing the frequency of that event.\n",
    "If you are a bayesian, most likely, you will asing a prior probability of 1/6 for each event."
   ]
  },
  {
   "cell_type": "markdown",
   "metadata": {
    "slideshow": {
     "slide_type": "slide"
    }
   },
   "source": [
    "### Bayes' theorem\n",
    "\n",
    "The probability $P(A)$ that an event happens, for example that rolling the dice we get 3, is called **marginal probability**. The probability that an event $A$ happens if another one $B$ has happened is called **conditional probability**, $P(A|B)$. For example, the probability that rolling your dice is 3 if you know that the number obtained was odd, in that case $P(3|\\mathrm{odd})=1/3$. The Bayes' theorem relates both probabilities. \n",
    "\n",
    "If $A,B$ are two events with marginal probabilities $P(A),\\, P(B)$, the conditional probabilities $P(A|B), \\, P(B|A)$ are:\n",
    "\n",
    "$$\n",
    "P(A|B) = \\frac{P(B|A)\\,P(A)}{P(B)}\n",
    "$$\n"
   ]
  },
  {
   "cell_type": "markdown",
   "metadata": {
    "slideshow": {
     "slide_type": "slide"
    }
   },
   "source": [
    "**Example:** consider the experiment of rolling two dices, $A$ is the case when the sum of both dices is 6, and $B$ when one of them is 4. Verify the Baye's theorem.\n",
    "\n"
   ]
  },
  {
   "cell_type": "markdown",
   "metadata": {
    "slideshow": {
     "slide_type": "fragment"
    }
   },
   "source": [
    "The probability to get six adding both dices is $P(A)= 5/36$, possible outcomes are $\\{(1,5),(2,4),(3,3),(4,2),(5,1)\\}$, the probability to get four when the addition is six is therefore $P(B|A)=2/5$. Now, the probability to get one dice with four is $P(B)=11/36$, and the probability that both add six if one is four is $2/11$, therefore:\n",
    "\n",
    "$$\n",
    "\\frac{11}{36} \\, \\frac{2}{11} = \\frac{2}{5} \\, \\frac{5}{36} = \\frac{1}{18}\n",
    "$$\n",
    "\n",
    "what verifies the Bayes' theorem."
   ]
  },
  {
   "cell_type": "code",
   "execution_count": 3,
   "metadata": {
    "slideshow": {
     "slide_type": "subslide"
    }
   },
   "outputs": [
    {
     "name": "stdout",
     "output_type": "stream",
     "text": [
      "nsamples 100000\n",
      "p(A) = 0.141\n",
      "p(B) = 0.304\n",
      "p(B|A) = 0.400\n",
      "p(A|B) =  0.19\n",
      "p(B|A) p(A) = 0.056\n",
      "p(A|B) p(B) = 0.056\n"
     ]
    }
   ],
   "source": [
    "nsamples = 100000\n",
    "xs = np.random.choice(np.arange(6), size=(nsamples, 2))\n",
    "\n",
    "print('nsamples {:d}'.format(nsamples))\n",
    "As = np.array([xi for xi in xs if np.sum(xi) == 6])\n",
    "Bs = np.array([xi for xi in xs if len(np.argwhere(xi == 4)) > 0])\n",
    "pA = 1.*len(As)/(1.*nsamples)\n",
    "pB = 1.*len(Bs)/(1.*nsamples)\n",
    "print('p(A) = {:5.3f}'.format(pA))\n",
    "print('p(B) = {:5.3f}'.format(pB))\n",
    "\n",
    "BAs = np.array([xi for xi in As if len(np.argwhere(xi == 4) > 0)])\n",
    "ABs = np.array([xi for xi in Bs if np.sum(xi) == 6])\n",
    "\n",
    "pBA = 1.*len(BAs)/(1.*len(As))\n",
    "pAB = 1.*len(ABs)/(1.*len(Bs))\n",
    "print('p(B|A) = {:5.3f}'.format(pBA))\n",
    "print('p(A|B) = {:5.2f}'.format(pAB))\n",
    "\n",
    "print('p(B|A) p(A) = {:5.3f}'.format(pBA*pA))\n",
    "print('p(A|B) p(B) = {:5.3f}'.format(pAB*pB))"
   ]
  },
  {
   "cell_type": "markdown",
   "metadata": {
    "slideshow": {
     "slide_type": "slide"
    }
   },
   "source": [
    "**Exercise:** The probability of an individual to have HIV+ is 1 in 10000. Consider a medical test of HIV. If the patient is HIV+, the test is positive in 99 % of the times, but if the person is HIV- person, the test can wrongly be positive in 2 % of the times. After a test, a patient is diagnosed with HIV+, what is the probability that he has HIV +?"
   ]
  },
  {
   "cell_type": "markdown",
   "metadata": {
    "slideshow": {
     "slide_type": "fragment"
    }
   },
   "source": [
    "We want to estimate $p(HIV+ | +)$!\n",
    "\n",
    "$$\n",
    "\\begin{array}{l}\n",
    "p(HIV+) = 0.0001, \\; p(HIV-) = 0.9999, \\; \\\\ p(+|HIV+) = 0.99, \\, p(+|HIV-)=0.02 \\\\\n",
    "p(HIV+|+) \\, p(+)= \\, p(+| HIV+) \\, p(HIV+) \\\\\n",
    "p(+) = p(+|HIV+)\\, p(HIV+) \\, + \\, p(+|HIV-) \\, p(HIV-) \\\\ \\\\\n",
    "p(HIV+|+) = \\frac{p(+|HIV+) \\, p(HIV+)}{p(+)} \\\\\n",
    "p(HIV+|+) = \\frac{p(+|HIV+) \\, p(HIV+)}{p(+|HIV+)\\, p(HIV+) \\, + \\, p(+|HIV-) \\, p(HIV-)} \\\\\n",
    "p(HIV+|+) = \\frac{0.99 \\, 0.0001}{0.99 \\, 0.0001 + 0.02 \\, 0.999} \\\\\n",
    "\\end{array}\n",
    "$$"
   ]
  },
  {
   "cell_type": "code",
   "execution_count": 12,
   "metadata": {
    "slideshow": {
     "slide_type": "subslide"
    }
   },
   "outputs": [
    {
     "name": "stdout",
     "output_type": "stream",
     "text": [
      "probability to test + is p(+) = 0.020\n",
      "probability to be HIV+ is tested + is p(HIV+|+) = 0.005\n"
     ]
    }
   ],
   "source": [
    "pH, pHnot   = 0.0001, 0.9999\n",
    "ppH, ppHnot = 0.99  , 0.02\n",
    "pp          = ppH*pH + ppHnot*pHnot\n",
    "pHp         = ppH*pH / pp\n",
    "\n",
    "print('probability to test + is p(+) = {:5.3f}'.format(pp))\n",
    "print('probability to be HIV+ is tested + is p(HIV+|+) = {:5.3f}'.format(pHp))"
   ]
  },
  {
   "cell_type": "markdown",
   "metadata": {
    "slideshow": {
     "slide_type": "slide"
    }
   },
   "source": [
    "**Exercise:** What is the probability if repeating the test, it still gives positive?"
   ]
  },
  {
   "cell_type": "code",
   "execution_count": 13,
   "metadata": {
    "slideshow": {
     "slide_type": "fragment"
    }
   },
   "outputs": [
    {
     "name": "stdout",
     "output_type": "stream",
     "text": [
      "probability to test + is p(+) = 0.025\n",
      "probability to be HIV+ is tested + is p(HIV+|+) = 0.197\n"
     ]
    }
   ],
   "source": [
    "pH    = pHp\n",
    "pHnot = 1.-pH\n",
    "\n",
    "pp  = ppH*pH + ppHnot*pHnot\n",
    "pHp = ppH*pH /pp\n",
    "\n",
    "print('probability to test + is p(+) = {:5.3f}'.format(pp))\n",
    "print('probability to be HIV+ is tested + is p(HIV+|+) = {:5.3f}'.format(pHp))\n"
   ]
  },
  {
   "cell_type": "markdown",
   "metadata": {
    "slideshow": {
     "slide_type": "slide"
    }
   },
   "source": [
    "**Exercise:** A neutrino experiment has a problem with the DAQ, and 5% of the runing time it does not observe interactions. The neutrinos are produced by a reactor nearby that operates 75% of the time. In this moment, the experiment does not observe neutrinos, what is the probability that the reactor is off?"
   ]
  },
  {
   "cell_type": "markdown",
   "metadata": {
    "slideshow": {
     "slide_type": "fragment"
    }
   },
   "source": [
    "$p(!R| !D)$?\n",
    "\n",
    "$$\n",
    "\\begin{array}{l} \n",
    "p(!D |R) = 0.05, \\; p(R) = 0.75 \\\\\n",
    "p(!R|!D) \\, p(!D) = p(!D|!R)\\, P(!R) \\\\\n",
    "p(!R|!D) = p(!R)/p(!D) \\\\\n",
    "P(!D) = p(!R) \\, + \\, P(!D|R) \\,p(R) \\\\\n",
    "p(!R|!D) = \\frac{p(!R)}{p(!R) \\, + \\, p(!D|R) \\, p(R)}\n",
    "\\end{array}\n",
    "$$\n"
   ]
  },
  {
   "cell_type": "code",
   "execution_count": 20,
   "metadata": {
    "slideshow": {
     "slide_type": "subslide"
    }
   },
   "outputs": [
    {
     "name": "stdout",
     "output_type": "stream",
     "text": [
      "probability that the reactor is off p(!R|!D) = 0.984\n"
     ]
    }
   ],
   "source": [
    "pnotR  = 0.75\n",
    "pR     = 1.-pnotR\n",
    "pnotDR = 0.05\n",
    "\n",
    "pnotRnotD = pnotR / (pnotR + pnotDR*pR)\n",
    "\n",
    "print('probability that the reactor is off p(!R|!D) = {:5.3f}'.format(pnotRnotD))"
   ]
  },
  {
   "cell_type": "markdown",
   "metadata": {
    "slideshow": {
     "slide_type": "slide"
    }
   },
   "source": [
    "## 3. Frequentist vs Bayesians\n",
    "\n",
    "The is a great divide in statistics: frequentist vs Bayesians. \n",
    "\n",
    "**Frequentist are inductive**. *They compute the probability of an observation by repeating the same experiment many times*. They test is the data is compatible with the theory. They measure a **likelihood function**:\n",
    "\n",
    "$$\n",
    "f(x | \\mu)\n",
    "$$\n",
    "where $\\mu$ is the theory and $x$ the data. \n",
    "\n",
    "**Bayesians are deductive**. *They compute the probability using the Bayes' theorem. They need to assign first a prior probability based in a 'reasonable' initial guess*. They measure the credibility of a theory based on the data. They measure a **posterior probability**\n",
    "\n",
    "$$\n",
    "p(\\mu | x)\n",
    "$$\n"
   ]
  },
  {
   "cell_type": "markdown",
   "metadata": {
    "slideshow": {
     "slide_type": "slide"
    }
   },
   "source": [
    "\n",
    "<img src=\"imgs/bayes_cartoon.png\">\n",
    "\n",
    "Most of physicist we are bayesians, but we think of ourselves as frequentists. Consider the discovery of the Higgs. If you are frequentist you claim: \"LHC data strongly disagrees with the hypothesis of the SM without the Higgs and agrees with a Higgs in the SM.\", while a Bayesian claims: \"We have discovered the Higgs!\"\n",
    "\n"
   ]
  },
  {
   "cell_type": "markdown",
   "metadata": {
    "slideshow": {
     "slide_type": "slide"
    }
   },
   "source": [
    "## 4. Probability density functions\n",
    "\n",
    "\n",
    "In physics the variables that we measure are of probabilistic nature, therefore are **random variables** (rv). The probability distribution, $f(x)$ that follow a rv is called **probability density function**, pdf. If $x$ takes discrete values, the name is **probability mass function** (pmf)\n",
    "\n",
    "From the probability axions we have: \n",
    "\n",
    "$$\n",
    "\\int_{-\\infty}^{\\infty} f(x) \\mathrm{d}x = 1\n",
    "$$\n",
    "\n",
    "We give the cumutative density function (cdf), $F(x)$, as:\n",
    "\n",
    "$$\n",
    "F(x) = \\int_{-\\infty}^{x} f(x) \\mathrm{d}x\n",
    "$$\n",
    "\n",
    "In the case the input variables ${\\bf x}$ is a rv vector, the $f({\\bf x})$ is a scalar n-dimensional function. If the variables are uncorrelated them, the pdf is the product of the individual pdfs.\n",
    "\n",
    "$$\n",
    "f({\\bf x}) = \\Pi_{i=1,n} f_i(x_i)\n",
    "$$\n",
    "\n"
   ]
  },
  {
   "cell_type": "markdown",
   "metadata": {
    "slideshow": {
     "slide_type": "notes"
    }
   },
   "source": [
    "We call marginal pdf when one or more rvs are integrated out, for example if we integrate $x_n$:\n",
    "$$\n",
    "f(x_1,\\dots,x_{n-1}) = \\int f({\\bf x}) \\mathrm{d}x_n\n",
    "$$\n",
    "We can \"project\" the pdf in one axis, that is get the marginal pdf for each variable $x_i$ individually:\n",
    "$$\n",
    "f(x_j) = \\int f({\\bf x}) \\, \\Pi_{i=1,n; i \\neq j} \\, \\mathrm{d}x_i\n",
    "$$\n"
   ]
  },
  {
   "cell_type": "markdown",
   "metadata": {
    "slideshow": {
     "slide_type": "slide"
    }
   },
   "source": [
    "**Example:** Consider the case in which we try to observe a signal event in $n$ independent channels. In each one we expect $b_i$ background events and, if there is signal, $s_i$ events. What is the total PDF?\n",
    "\n"
   ]
  },
  {
   "cell_type": "markdown",
   "metadata": {
    "slideshow": {
     "slide_type": "fragment"
    }
   },
   "source": [
    "As the channels are $n$ independent, the pdf is the product of the pdf of each channel. In each channel we can observe $n_i$ events, the total observation is ${\\bf n} = (n_1,\\dots,n_n)$. The pdfs for the $b$, background only, and $b+s$, background and signal hypothesis are distributed with a Poisson:\n",
    "$$\n",
    "f({\\bf n}|s,b) = \\Pi_{i=1,n} \\frac{(s_i+b_i)^{n_i}}{n_i!} e^{-(s_i+b_i)}, \\;\\;\\;\n",
    "f({\\bf n}|b) = \\Pi_{i=1,n} \\frac{b_i^{n_i}}{n_i!} e^{-b_i}\n",
    "$$"
   ]
  },
  {
   "cell_type": "markdown",
   "metadata": {
    "slideshow": {
     "slide_type": "slide"
    }
   },
   "source": [
    "### Likelihood \n",
    "\n",
    "The **probability density function**, *pdf*, is the probability to measure $x$ given some parameters $\\mu$ of the distribution, $f(x|\\mu)$. \n",
    "\n",
    "A **likelihood** is the probability evaluted with the observed data, $f(x|\\mu)$. Notice that now $x$ is a data, a measurement! \n",
    "\n",
    "For n, ${\\bf x}$, independent measurements of a distribution with a pdf, the likelihood is the product of the likelihood of each measurement $x_i$:\n",
    "\n",
    "$$\n",
    "f({\\bf x} | \\mu) = \\Pi_{i=1}^n f(x_i | \\mu)\n",
    "$$\n"
   ]
  },
  {
   "cell_type": "markdown",
   "metadata": {
    "slideshow": {
     "slide_type": "fragment"
    }
   },
   "source": [
    "\n",
    "The *pdf* of gaussian distribution with mean 1 and sigma 1 normal is:\n",
    "$$\n",
    "f(x|\\mu=0, \\sigma=1) = \\frac{1}{\\sqrt{2\\pi}} e^{-\\frac{x^2}{2}}\n",
    "$$\n",
    "\n",
    "Consisder two measurements, $x_0=1., x_1=2.$, the *likelihood* is:\n",
    "$$\n",
    "f(\\{1., 2.\\}) = \\frac{1}{2\\pi} e^{-5/2}\n",
    "$$"
   ]
  },
  {
   "cell_type": "markdown",
   "metadata": {
    "slideshow": {
     "slide_type": "slide"
    }
   },
   "source": [
    "\n",
    "A **likelihood function** gives the likelihood a given measurement ${\\bf x}$ as a function of the distribution parameters $\\mu$.\n",
    "\n",
    "$$\n",
    "\\mathcal{L}(\\mu) \\equiv f(x | \\mu),\n",
    "$$\n",
    "\n",
    "\n",
    "One of the common methods to estimate a parameter is to find the best parameter value that maximizes the likelihood function (see the regression chapter). \n",
    "\n",
    "The likelihood can be a very small number, for that reason, it is common to take the logarithm, and called **log likelihood function**:\n",
    "\n",
    "$$\n",
    "-2 \\log \\mathcal{L}(\\mu)\n",
    "$$"
   ]
  },
  {
   "cell_type": "markdown",
   "metadata": {
    "slideshow": {
     "slide_type": "slide"
    }
   },
   "source": [
    "**Exercise:** Generate $n$ samples of a normal. Compute the likelihood function of the mean (fix sigma of the gaussian to 1)"
   ]
  },
  {
   "cell_type": "code",
   "execution_count": 21,
   "metadata": {
    "slideshow": {
     "slide_type": "subslide"
    }
   },
   "outputs": [
    {
     "data": {
      "image/png": "[encoded data removed]",
      "text/plain": [
       "<Figure size 432x288 with 2 Axes>"
      ]
     },
     "metadata": {
      "needs_background": "light"
     },
     "output_type": "display_data"
    }
   ],
   "source": [
    "n  = 10\n",
    "xs = stats.norm.rvs(size=n)\n",
    "\n",
    "def ll(x, xs):\n",
    "    dx = (x-xs)\n",
    "    return np.sum(dx*dx)\n",
    "\n",
    "fig, ax = plt.subplots()\n",
    "ax.hist(xs, bins=50, alpha=0.5, range=(-3., 3.), color='blue')\n",
    "axb = ax.twinx()\n",
    "\n",
    "mus = np.linspace(-3., 3., 100)\n",
    "lls = np.array([ll(mu, xs) for mu in mus])\n",
    "axb.plot(mus, lls, alpha=0.5, color='red', lw=2)\n",
    "ax.set_xlabel('$x$', fontsize=16); ax.set_ylabel('samples');\n",
    "axb.set_ylabel('$-2 \\, \\log \\mathcal{L}(x)$', color='red', fontsize=16)\n",
    "fig.savefig('figs/gen_likelihood_example.png');"
   ]
  },
  {
   "cell_type": "markdown",
   "metadata": {
    "slideshow": {
     "slide_type": "slide"
    }
   },
   "source": [
    "\n",
    "\n",
    "### Posterior probability in bayesian statistics\n",
    "\n",
    "With bayesian statistic one can improve a prior \"knowledge\" using the data.\n",
    "\n",
    "Suppose that we have an ensemble of possible hypothesis $h$, with a prior probability $\\pi(h)$. Given some observation, $x$, Bayes' theorem allow us to compute the **posterior probability**, $\\pi'(h)$. The probability of $h$ given the data $x$, $p(h|x)$, is: \n",
    "\n",
    "$$\n",
    "p(h|x) = \\frac{p(x|h) \\pi(h)}{\\int p(x|h) \\pi(h) \\mathrm{d}h}\n",
    "$$\n",
    "\n",
    "As the total probability for the ensemble of hypothesis $h$ should be one, we can obtain the posterior probability $\\pi'(h)$, just normalizing the conditional probability of each hypothesis:\n",
    "\n",
    "$$\n",
    "\\pi'(h) = \\frac{p(h|x)}{ \\int p(h|x) \\mathrm{d}h}\n",
    "$$\n"
   ]
  },
  {
   "cell_type": "markdown",
   "metadata": {
    "slideshow": {
     "slide_type": "fragment"
    }
   },
   "source": [
    "**Exercise:** Show that the posterior of n $x$ normal distributed measurements, $p(x | \\mu, \\sigma)$, with a flat prior on $\\mu$, and known $\\sigma$, is a gaussian with mean $\\mu = \\bar{x}$, the average of the $n$ $x$ measurements, and the sigma $\\sigma/\\sqrt{n}$\n"
   ]
  },
  {
   "cell_type": "markdown",
   "metadata": {
    "slideshow": {
     "slide_type": "slide"
    }
   },
   "source": [
    "**Example:** Consider the example above. An sample of $n$ measurements from a normal distribution. Obtain the posterior probability of the mean, if the sigma is know. "
   ]
  },
  {
   "cell_type": "code",
   "execution_count": 18,
   "metadata": {
    "slideshow": {
     "slide_type": "subslide"
    }
   },
   "outputs": [
    {
     "name": "stdout",
     "output_type": "stream",
     "text": [
      "posterior integral 1.000\n"
     ]
    },
    {
     "data": {
      "image/png": "[encoded data removed]",
      "text/plain": [
       "<Figure size 432x288 with 1 Axes>"
      ]
     },
     "metadata": {
      "needs_background": "light"
     },
     "output_type": "display_data"
    }
   ],
   "source": [
    "def posterior(x, xs):\n",
    "    \"\"\" the posterior of a gaussian likelihood with known sigma and mu mean, and flat prior on mu \n",
    "    is a gaussian with mean the average of the n-measurements and sigma sigma/n\n",
    "    \"\"\"\n",
    "    mu = np.mean(xs)\n",
    "    msig = np.sqrt(1./(1.*len(xs)))\n",
    "    return stats.norm.pdf(x, mu, msig)\n",
    "fig, ax = plt.subplots()\n",
    "ax.hist(xs, bins=100, range=(-3., 3.), color='black', label='$x$')\n",
    "mus = np.linspace(-3., 3., 100)\n",
    "pos = np.array([posterior(mu, xs) for mu in mus])\n",
    "dx  = mus[1]-mus[0]\n",
    "print('posterior integral {:5.3f}'.format(np.sum(pos)*dx))\n",
    "ax.plot(mus, pos, color='blue', lw=2, label='$p(\\mu | x)$'); ax.legend(fontsize=14)\n",
    "ax.set_xlabel('$\\mu$', fontsize=16); ax.set_ylabel('posterior, $p(\\mu | x)$');                        "
   ]
  },
  {
   "cell_type": "markdown",
   "metadata": {
    "slideshow": {
     "slide_type": "slide"
    }
   },
   "source": [
    "**Exercise:** Show that the posterior of a normal prior, $\\pi(\\mu | \\mu_0, \\sigma_{\\mu_0})$,\n",
    "and a normal likelihood, $p(x |\\mu, \\sigma)$, for n-measurements, $x$, is a normal distribution with mean, $\\mu'$, and sigma, $\\sigma_{\\mu'}$:\n",
    "\n",
    "$$\n",
    "\\frac{1}{\\sigma^2_{\\mu'}} = \\frac{n}{\\sigma^2} + \\frac{1}{\\sigma^2_{\\mu_0}}, \n",
    "\\;\\;\\;\n",
    "\\mu' = \\sigma^2_{\\mu'} \\left( \\frac{\\mu_0}{\\sigma^2_{\\mu_0}} + \\frac{\\sum_i x_i}{\\sigma^2} \\right)\n",
    "$$"
   ]
  },
  {
   "cell_type": "markdown",
   "metadata": {
    "slideshow": {
     "slide_type": "fragment"
    }
   },
   "source": [
    "**Exercise:** There are several dices in a box, with 4, 6, 12 and 24 sides. We pick one randomly and we roll it four times, with outcomes, $1,4,5,2$, what is the posterior probability that the selected dice has 4, 6, 12 or 24 sides?, what is the posterior probability if we roll it twice again and wet get 6 and 1? "
   ]
  },
  {
   "cell_type": "markdown",
   "metadata": {
    "slideshow": {
     "slide_type": "slide"
    }
   },
   "source": [
    "### Expectation values\n",
    "\n",
    "Given a $x$ rv that follows a pdf, $\\, f(x)$, and a function $g(x)$ on $x$, we define the expected value of $g(x)$ as:\n",
    "\n",
    "$$\n",
    "E[g(x)] \\equiv \\int g(x) \\, f(x) \\, \\mathrm{d}x\n",
    "$$\n",
    "\n",
    "The **mean**, or average value, is the expected value of $x$:\n",
    "\n",
    "$$\n",
    "E[x] = \\mu \\equiv  \\int x \\, f(x) \\, \\mathrm{d}x\n",
    "$$\n",
    "\n",
    "The **variance** is the expected value of $(x-\\mu)^2$:\n",
    "\n",
    "$$\n",
    "V[x] = \\sigma^2 = E[(x-\\mu)^2]= E[x^2]-\\mu^2 \\equiv \\int (x-\\mu)^2 \\, f(x) \\, \\mathrm{d}x\n",
    "$$\n",
    "\n",
    "We call **standard deviation** to:\n",
    "\n",
    "$$\n",
    "\\sigma = \\sqrt{V[x]}\n",
    "$$\n",
    "\n",
    "The standard deviation is related with the spread of the pdf, while the mean is related with the center of density of the pdf. \n",
    "\n"
   ]
  },
  {
   "cell_type": "markdown",
   "metadata": {
    "slideshow": {
     "slide_type": "slide"
    }
   },
   "source": [
    "\n",
    "The **expected value** is the $x$ value with the highest $f(x)$.\n",
    "\n",
    "The **median**, is the $x_{med}$ value that divides the distribution in half, \n",
    "\n",
    "$$\n",
    "\\int_0^{x_{med}} f(x) \\mathrm{d}x = 0.5\n",
    "$$\n",
    "\n",
    "For a symmetric pdf, the mean and median are the same.\n",
    "\n",
    "\n",
    "If ${\\bf x}$ is a vector, the pdf is a n-dimensional function. In that case, we define the covariance element between $i$ and $j$ elements as:\n",
    "\n",
    "$$\n",
    "\\mathrm{cov}[x_i,x_j] = \\int x_i \\, x_j \\, f({\\bf x}) \\; \\Pi_{i=1,n} \\mathrm{d}x_i\n",
    "$$\n",
    "\n",
    "If the variables $x_i, \\, x_j$ variables are independent then the covariance is zero. But the contrary is not necessarily true.\n",
    "\n"
   ]
  },
  {
   "cell_type": "markdown",
   "metadata": {
    "slideshow": {
     "slide_type": "slide"
    }
   },
   "source": [
    "## 5.  Common probability density functions \n",
    "\n",
    "The most commont distributions in HEP are:\n",
    "\n",
    "* **Binomial**. A event can happen with probability $p$. The probability to get $n$ events if we try $N$ times is given by the binomial pdf.\n",
    "\n",
    "$$\n",
    "f(n|N,p) = \\frac{N!}{n! (N-n)!} p^n (1-p)^{N-n}\n",
    "$$\n",
    "\n",
    "* **Poisson**. Related with the number of events if we expect $\\nu$. The number of interactions in a crossing of the LHC beams is modeled with a poisson.\n",
    "\n",
    "$$ \n",
    "f(n|\\nu) = \\frac{\\nu^n}{n!} e^{-\\nu}\n",
    "$$ \n",
    "\n",
    "* **Uniform**. Equal probability to get $x$ in an interval $[a, b]$.\n",
    "\n",
    "$$\n",
    "f(x|a,b) = \\frac{1}{(b-a)}\n",
    "$$\n"
   ]
  },
  {
   "cell_type": "markdown",
   "metadata": {
    "slideshow": {
     "slide_type": "slide"
    }
   },
   "source": [
    "\n",
    "* **Exponential**. An event can happen in $x$ with probability $1/\\tau$. It describes the time of particles decays.\n",
    "\n",
    "$$\n",
    "f(x|\\tau) = \\frac{1}{\\tau} e^{-x/\\tau}\n",
    "$$\n",
    "\n",
    "* **Gaussian** (or normal). Associated with the distributions of measurements.\n",
    "\n",
    "$$ \n",
    "f(x|\\mu,\\sigma) = \\frac{1}{\\sqrt{2\\pi} \\sigma} e^{-\\frac{(x-\\mu)^2}{2\\sigma^2}}\n",
    "$$ \n",
    "\n",
    "* **$\\chi^2_n$** with $n$ degrees of freedom. Associated with goodness of fit.\n",
    "\n",
    "$$\n",
    "f(x|n) = \\frac{1}{2^{n/2} \\Gamma(n/2)} x^{n/2-1}e^{-x/2}\n",
    "$$"
   ]
  },
  {
   "cell_type": "markdown",
   "metadata": {
    "slideshow": {
     "slide_type": "slide"
    }
   },
   "source": [
    "\n",
    "* **Breit-Wigner**. Describes the distribution of masses in resonances. \n",
    "\n",
    "$$\n",
    "f(x|\\Gamma,x_0) = \\frac{1}{\\pi} \\frac{\\Gamma/2}{\\Gamma^2/4 + (x-x_0)^2} \n",
    "$$\n",
    "\n",
    "* **Beta**. Associated with the measurement of probabilities. Used in Bayesian statistics.\n",
    "\n",
    "$$\n",
    "f(x | \\alpha,\\beta) = \\frac{\\Gamma(\\alpha+\\beta)}{\\Gamma(\\alpha)\\Gamma(\\beta)} x^{\\alpha-1} (1-x)^{\\beta-1}\n",
    "$$\n",
    "\n",
    "where $x, \\alpha, \\beta$ are positive.\n",
    "* **Gamma**. Associated with bayesian statistics with poisson distributions. \n",
    "\n",
    "$$\n",
    "f(x | \\alpha,\\beta) = \\frac{\\beta^\\alpha}{\\Gamma(\\alpha)} x^{\\alpha-1} e^{-x \\beta}\n",
    "$$\n",
    "\n",
    "where $x, \\alpha, \\beta$ are positive.\n",
    "\n"
   ]
  },
  {
   "cell_type": "markdown",
   "metadata": {
    "slideshow": {
     "slide_type": "slide"
    }
   },
   "source": [
    "\n",
    "Some of the PDFs are nicely related:\n",
    "\n",
    "In the case that an event is rare but we do a large number of trials, their distribution follow a binomial with $p\\to 0$, $N\\to \\infty$, if $ N \\, p = \\nu$ is constant, (this happens in nuclei decays), the binomial transform into Poisson with mean $\\nu$. \n",
    "\n",
    "When $\\nu$ is \"large\", 12 is enough, the Poisson transforms into Gaussian with $\\mu=\\nu$.\n",
    "\n",
    "When we take n values of $x$, gaussian distributed, with mean $\\mu$ and sigma $\\sigma$, and compute $\\chi^2 = \\sum_{i=1,n} \\frac{(x_i -\\mu)^2}{\\sigma^2}$, it follows a chi-squared distribution with $n$ degrees of freedom.\n",
    "\n"
   ]
  },
  {
   "cell_type": "markdown",
   "metadata": {
    "slideshow": {
     "slide_type": "slide"
    }
   },
   "source": [
    "**Exercise:** Compare a poisson distribution, with $\\nu=p \\, N$ with a binomial when $N$ is large and $p$ is small."
   ]
  },
  {
   "cell_type": "code",
   "execution_count": 9,
   "metadata": {
    "slideshow": {
     "slide_type": "subslide"
    }
   },
   "outputs": [
    {
     "data": {
      "image/png": "[encoded data removed]",
      "text/plain": [
       "<Figure size 432x288 with 1 Axes>"
      ]
     },
     "metadata": {
      "needs_background": "light"
     },
     "output_type": "display_data"
    }
   ],
   "source": [
    "N, p = 100, 0.08\n",
    "\n",
    "ns = np.arange(20)\n",
    "fig, ax = plt.subplots()\n",
    "ax.bar(ns, stats.binom.pmf(ns, N, p), color='blue', alpha=0.5, label='binomial')\n",
    "ax.bar(ns, stats.poisson.pmf(ns, N*p), color='red', alpha=0.5, label='poisson')\n",
    "ax.set_xlabel('$x$', fontsize=16)\n",
    "ax.set_ylabel('$f(x$)', fontsize=16)\n",
    "ax.legend(fontsize=14)\n",
    "fig.savefig('figs/gen_binomial_poisson.png');"
   ]
  },
  {
   "cell_type": "markdown",
   "metadata": {
    "slideshow": {
     "slide_type": "slide"
    }
   },
   "source": [
    "**Exercise:** Check that from a \"large\" $\\nu$ the poisson distribution is equivalent to a gaussian distribution.\n",
    "\n",
    "**Exercise:** Generate $m$ samples, each one with $n$ measurements, $x_i$ distributed random in $[0, 1]$ interval, sum the $n$ numbers, $\\sum_i^n x_i$ and obtain the distribution of the $m$ samples.\n",
    "\n",
    "**Exercise:** Generate $m$ samples, each with $n$ measurements, $x_i$, normal distributed, compute its distance squared $\\chi^2 = \\sum_{i=1}^n x^2_i$, what is the distribution of $\\chi^2$?\n",
    "\n",
    "**Exercise:** Generate $n$ $x_i$-values, each one gaussian distributed with mean $\\mu_i$ and sigma $\\sigma_i$, show that the sum $\\sum_i x_i$ is gaussian distributed with mean, $\\mu = \\sum_i \\mu_i$, and sigma $\\sigma^2 = \\sum_i \\sigma^2_i$.\n",
    "\n",
    "**Exercise:** Get the possion distribution from a Gamma distribution.\n",
    "\n",
    "**Exercise:** Get an exponential distribution from a Gamma distribution.\n",
    "\n",
    "**Exercise:** Get the $\\chi^2$ distribution from a Gamma distribution.\n",
    "\n",
    "**Exercise:** Study the Beta distribution for different parameters of $\\alpha, \\beta$ (start $\\alpha=\\beta=1$)."
   ]
  },
  {
   "cell_type": "markdown",
   "metadata": {
    "slideshow": {
     "slide_type": "slide"
    }
   },
   "source": [
    "## 6. Non parametric pdfs\n",
    "\n",
    "In some cases we do not know the parametric pdf that describes our sample, but we can try to infer a **non-parametrical pdf** using the data itself.\n",
    "\n",
    "One possibility is to use a kernel function around each point of the sample. Given a kernel function, $k(u)$, we can construct the pdf as:\n",
    "$$\n",
    "f(x) = \\frac{1}{n} \\sum_{i=1}^{n} k(u_i)\n",
    "$$\n",
    "where $u = |x-x_i|/w$, and $w$ the width of the kernel. The kernel is also a symmetric function on $u$. There are many kernel functions that we can use: \n",
    "$$\n",
    "k(u) = (1-|u|), \\;\\;\\; k(u) = \\frac{3}{4} (1-u^2), \\;\\;\\; \\frac{1}{\\sqrt{2\\pi}}e^{-\\frac{u^2}{2}}\n",
    "$$\n",
    "for the two first kernels $|u|\\le 1$. They correspond to a triangular, a Epanechnikov and gaussian shapes, respectively. There is also the possibility to use \"adaptative\" kernels, which width depend on the distance to the nearest neighbors. There is a large industry about the kernel functions to use!\n",
    "\n"
   ]
  },
  {
   "cell_type": "markdown",
   "metadata": {
    "slideshow": {
     "slide_type": "slide"
    }
   },
   "source": [
    "**Example:** Generate n (small) samples with two gaussian with sigma 1 and means 0, 5.\n",
    "Plot the normalized histogram. Use different kernels to obtain a non-parametric pdf."
   ]
  },
  {
   "cell_type": "code",
   "execution_count": 10,
   "metadata": {
    "slideshow": {
     "slide_type": "subslide"
    }
   },
   "outputs": [
    {
     "name": "stderr",
     "output_type": "stream",
     "text": [
      "/Users/hernando/miniconda/envs/IC-3.6-2018-08-29/lib/python3.6/site-packages/matplotlib/axes/_axes.py:6462: UserWarning: The 'normed' kwarg is deprecated, and has been replaced by the 'density' kwarg.\n",
      "  warnings.warn(\"The 'normed' kwarg is deprecated, and has been \"\n"
     ]
    },
    {
     "data": {
      "image/png": "[encoded data removed]",
      "text/plain": [
       "<Figure size 432x288 with 1 Axes>"
      ]
     },
     "metadata": {
      "needs_background": "light"
     },
     "output_type": "display_data"
    }
   ],
   "source": [
    "# generate X matrix (n-samples, n-features = 1)\n",
    "N = 500\n",
    "xs = np.concatenate((np.random.normal(0, 1, int(0.3 * N)),\n",
    "                    np.random.normal(5, 1, int(0.7 * N))))\n",
    "X = xs.reshape(len(xs,), 1)\n",
    "\n",
    "X_plot = np.linspace(-5, 10, 1000).reshape(1000, 1)\n",
    "fig, ax = plt.subplots();\n",
    "\n",
    "ax.hist(X[:, 0], bins=20, normed=True, color='blue', alpha=0.5);\n",
    "ax.set_xlabel('$x$')\n",
    "ax.set_ylabel('event rate');"
   ]
  },
  {
   "cell_type": "code",
   "execution_count": 11,
   "metadata": {
    "slideshow": {
     "slide_type": "skip"
    }
   },
   "outputs": [
    {
     "ename": "ModuleNotFoundError",
     "evalue": "No module named 'sklearn'",
     "output_type": "error",
     "traceback": [
      "\u001b[0;31m---------------------------------------------------------------------------\u001b[0m",
      "\u001b[0;31mModuleNotFoundError\u001b[0m                       Traceback (most recent call last)",
      "\u001b[0;32m<ipython-input-11-8237ff4f3316>\u001b[0m in \u001b[0;36m<module>\u001b[0;34m()\u001b[0m\n\u001b[0;32m----> 1\u001b[0;31m \u001b[0;32mfrom\u001b[0m \u001b[0msklearn\u001b[0m\u001b[0;34m.\u001b[0m\u001b[0mneighbors\u001b[0m \u001b[0;32mimport\u001b[0m \u001b[0mKernelDensity\u001b[0m\u001b[0;34m\u001b[0m\u001b[0m\n\u001b[0m\u001b[1;32m      2\u001b[0m \u001b[0;34m\u001b[0m\u001b[0m\n\u001b[1;32m      3\u001b[0m \u001b[0mfig\u001b[0m\u001b[0;34m,\u001b[0m \u001b[0max\u001b[0m \u001b[0;34m=\u001b[0m \u001b[0mplt\u001b[0m\u001b[0;34m.\u001b[0m\u001b[0msubplots\u001b[0m\u001b[0;34m(\u001b[0m\u001b[0mfigsize\u001b[0m\u001b[0;34m=\u001b[0m\u001b[0;34m(\u001b[0m\u001b[0;36m6\u001b[0m\u001b[0;34m,\u001b[0m \u001b[0;36m6\u001b[0m\u001b[0;34m)\u001b[0m\u001b[0;34m)\u001b[0m\u001b[0;34m\u001b[0m\u001b[0m\n\u001b[1;32m      4\u001b[0m \u001b[0;34m\u001b[0m\u001b[0m\n\u001b[1;32m      5\u001b[0m \u001b[0max\u001b[0m\u001b[0;34m.\u001b[0m\u001b[0mhist\u001b[0m\u001b[0;34m(\u001b[0m\u001b[0mX\u001b[0m\u001b[0;34m[\u001b[0m\u001b[0;34m:\u001b[0m\u001b[0;34m,\u001b[0m \u001b[0;36m0\u001b[0m\u001b[0;34m]\u001b[0m\u001b[0;34m,\u001b[0m \u001b[0mbins\u001b[0m\u001b[0;34m=\u001b[0m\u001b[0;36m20\u001b[0m\u001b[0;34m,\u001b[0m \u001b[0mnormed\u001b[0m\u001b[0;34m=\u001b[0m\u001b[0;32mTrue\u001b[0m\u001b[0;34m,\u001b[0m \u001b[0mcolor\u001b[0m\u001b[0;34m=\u001b[0m\u001b[0;34m'blue'\u001b[0m\u001b[0;34m,\u001b[0m \u001b[0malpha\u001b[0m\u001b[0;34m=\u001b[0m\u001b[0;36m0.2\u001b[0m\u001b[0;34m)\u001b[0m\u001b[0;34m;\u001b[0m\u001b[0;34m\u001b[0m\u001b[0m\n",
      "\u001b[0;31mModuleNotFoundError\u001b[0m: No module named 'sklearn'"
     ]
    }
   ],
   "source": [
    "from sklearn.neighbors import KernelDensity\n",
    "\n",
    "fig, ax = plt.subplots(figsize=(6, 6))\n",
    "\n",
    "ax.hist(X[:, 0], bins=20, normed=True, color='blue', alpha=0.2);\n",
    "\n",
    "colors = ['red', 'blue', 'yellow', 'black']\n",
    "kernels= ['gaussian', 'tophat', 'epanechnikov', 'linear']\n",
    "kernelwidth = 0.75\n",
    "for i, kernel in enumerate(kernels):\n",
    "    kde = KernelDensity(kernel=kernel, bandwidth=kernelwidth)\n",
    "    # fit the kde dataset\n",
    "    kde.fit(X)\n",
    "    # score_samples returns the log for x-points, get back the pdf\n",
    "    pdfs = np.exp(kde.score_samples(X_plot))\n",
    "    integral = np.sum(pdfs)*(X_plot[1]-X_plot[0])[0]\n",
    "    print('pdf {:s} integral {:5.3f}'.format(kernel, integral))\n",
    "    ax.fill(X_plot[:, 0], pdfs, color=colors[i], alpha=0.3, label=kernel)\n",
    "ax.set_xlabel('$x$')\n",
    "ax.set_ylabel('$f(x)$')\n",
    "ax.legend(loc=2)\n",
    "fig.savefig('figs/gen_nonparam_pdf.png');"
   ]
  },
  {
   "cell_type": "markdown",
   "metadata": {
    "slideshow": {
     "slide_type": "slide"
    }
   },
   "source": [
    "***\n",
    "\n",
    "## Bibliography\n",
    "\n",
    "[1] \"Practical Statistic for LHC physicist,\" H. B. Prosper, CERN Academic Training Lectures (2015). https://indico.cern.ch/event/358542/ https://arxiv.org/pdf/1504.00945.pdf\n",
    "\n",
    "[2] \"Statistic for HEP,\" G. Cowan. CERN Academic Training Lectures (2012). http://indico.cern.ch/event/173726/\n",
    "\n",
    "[3] \"Statistics for Particle Physics,\" K. Cranmer, CERN Academic Training Lectures (2009). \n",
    "https://indico.cern.ch/event/48425/\n",
    "\n",
    "[4] \"Unified approach to the classical statistical analysis of small signals, \"G. J. Feldman and R. D. Cousins, Phys. Rev. D57 (1998) 3873. http://journals.aps.org/prd/abstract/10.1103/PhysRevD.57.3873\n",
    "\n",
    "[5] “Asymptotic formulae for likelihood-based tests of new physics,” Glen Cowan, Kyle Cranmer, Eilam Gross, Ofer Vitells. Eur. Phys. J. C71 1554 (2011). https://arxiv.org/abs/1007.1727\n",
    "\n",
    "[6] \"Incorporating systematic uncertainties into an upper limit,\" R.D. Cousins and V.L. Highland. Nucl. Instrum. Meth. A320, 331 (1992). http://www.sciencedirect.com/science/article/pii/0168900292907945\n",
    "\n",
    "[7] \"Confidence Level Computation for Combining Searches with Small Statistics,\" T. Junk, Nucl. Instrum. Meth. A434, 435 (1999). https://arxiv.org/abs/hep-ex/9902006  \n",
    "\n",
    "[8] \"How good are your fits? Unbinned multivariate goodness-of-fit tests in high energy physics,\" M. Willians, https://arxiv.org/abs/1006.3019\n",
    "\n",
    "[9] ROOT https://root.cern.ch, TMVA http://tmva.sourceforge.net, RooFit https://root.cern.ch/roofit\n",
    "\n",
    "[10] Anaconda https://anaconda.org, SciPy https://www.scipy.org, NumPy http://www.numpy.org, Scikit-learn http://scikit-learn.org/stable/, Matplotlib http://matplotlib.org"
   ]
  },
  {
   "cell_type": "markdown",
   "metadata": {
    "slideshow": {
     "slide_type": "subslide"
    }
   },
   "source": [
    "\n",
    "[6] \"Incorporating systematic uncertainties into an upper limit,\" R.D. Cousins and V.L. Highland. Nucl. Instrum. Meth. A320, 331 (1992). http://www.sciencedirect.com/science/article/pii/0168900292907945\n",
    "\n",
    "[7] \"Confidence Level Computation for Combining Searches with Small Statistics,\" T. Junk, Nucl. Instrum. Meth. A434, 435 (1999). https://arxiv.org/abs/hep-ex/9902006  \n",
    "\n",
    "[8] \"How good are your fits? Unbinned multivariate goodness-of-fit tests in high energy physics,\" M. Willians, https://arxiv.org/abs/1006.3019\n",
    "\n",
    "[9] ROOT https://root.cern.ch, TMVA http://tmva.sourceforge.net, RooFit https://root.cern.ch/roofit\n",
    "\n",
    "[10] Anaconda https://anaconda.org, SciPy https://www.scipy.org, NumPy http://www.numpy.org, Scikit-learn http://scikit-learn.org/stable/, Matplotlib http://matplotlib.org"
   ]
  },
  {
   "cell_type": "code",
   "execution_count": null,
   "metadata": {},
   "outputs": [],
   "source": []
  }
 ],
 "metadata": {
  "anaconda-cloud": {},
  "celltoolbar": "Slideshow",
  "kernelspec": {
   "display_name": "Python 3",
   "language": "python",
   "name": "python3"
  },
  "language_info": {
   "codemirror_mode": {
    "name": "ipython",
    "version": 3
   },
   "file_extension": ".py",
   "mimetype": "text/x-python",
   "name": "python",
   "nbconvert_exporter": "python",
   "pygments_lexer": "ipython3",
   "version": "3.6.6"
  }
 },
 "nbformat": 4,
 "nbformat_minor": 1
}
